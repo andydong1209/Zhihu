{
 "cells": [
  {
   "cell_type": "code",
   "execution_count": 1,
   "metadata": {},
   "outputs": [],
   "source": [
    "import QuantLib as ql"
   ]
  },
  {
   "cell_type": "code",
   "execution_count": 2,
   "metadata": {},
   "outputs": [],
   "source": [
    "# 1.Enviroment\n",
    "settings = ql.Settings.instance()\n",
    "evDate = ql.Date(24, 3, 2023)\n",
    "settings.setEvaluationDate(evDate)"
   ]
  },
  {
   "cell_type": "code",
   "execution_count": 3,
   "metadata": {},
   "outputs": [],
   "source": [
    "Cal = ql.China()\n",
    "DC360 = ql.Actual360()\n",
    "DC365 = ql.Actual365Fixed()\n",
    "settlementDays = 0\n",
    "refDate = Cal.advance(evDate, settlementDays, ql.Days, ql.Following, False)\n",
    "maturity = ql.Date.nthWeekday(3, ql.Friday, ql.September, 2023)\n",
    "print(maturity)"
   ]
  },
  {
   "cell_type": "code",
   "execution_count": 4,
   "metadata": {},
   "outputs": [],
   "source": [
    "# 2.Market Data\n",
    "S0 = 4027.05\n",
    "QS = ql.SimpleQuote(S0)\n",
    "h_QS = ql.QuoteHandle(QS)"
   ]
  },
  {
   "cell_type": "code",
   "execution_count": 5,
   "metadata": {},
   "outputs": [],
   "source": [
    "r = 0.0205407\n",
    "rTS = ql.FlatForward(settlementDays, Cal, r, DC360, ql.Simple, ql.Annual)\n",
    "h_rTS = ql.YieldTermStructureHandle(rTS)"
   ]
  },
  {
   "cell_type": "code",
   "execution_count": 6,
   "metadata": {},
   "outputs": [],
   "source": [
    "q = 0.0218\n",
    "qTS = ql.FlatForward(settlementDays, Cal, q, DC365, ql.Simple, ql.Annual)\n",
    "h_qTS = ql.YieldTermStructureHandle(qTS)"
   ]
  },
  {
   "cell_type": "code",
   "execution_count": 7,
   "metadata": {},
   "outputs": [],
   "source": [
    "vol = 0.2\n",
    "volTS = ql.BlackConstantVol(evDate, Cal, vol, DC365)\n",
    "h_volTS = ql.BlackVolTermStructureHandle(volTS)"
   ]
  },
  {
   "cell_type": "code",
   "execution_count": 8,
   "metadata": {},
   "outputs": [],
   "source": [
    "GBSProcess = ql.GeneralizedBlackScholesProcess(h_QS, h_qTS, h_rTS, h_volTS)"
   ]
  },
  {
   "cell_type": "code",
   "execution_count": 9,
   "metadata": {},
   "outputs": [],
   "source": [
    "# 3.Instrument\n",
    "europeanExer = ql.EuropeanExercise(maturity)"
   ]
  },
  {
   "cell_type": "code",
   "execution_count": 10,
   "metadata": {},
   "outputs": [],
   "source": [
    "strike = 4000.0\n",
    "optType = ql.Option.Put\n",
    "vanillaPayoff = ql.PlainVanillaPayoff(optType, strike)"
   ]
  },
  {
   "cell_type": "code",
   "execution_count": 11,
   "metadata": {},
   "outputs": [],
   "source": [
    "anEuroOption = ql.EuropeanOption(vanillaPayoff, europeanExer)"
   ]
  },
  {
   "cell_type": "code",
   "execution_count": 12,
   "metadata": {},
   "outputs": [],
   "source": [
    "# 4.Engine\n",
    "AEE = ql.AnalyticEuropeanEngine(GBSProcess)"
   ]
  },
  {
   "cell_type": "code",
   "execution_count": 13,
   "metadata": {},
   "outputs": [],
   "source": [
    "anEuroOption.setPricingEngine(AEE)"
   ]
  },
  {
   "cell_type": "code",
   "execution_count": 14,
   "metadata": {},
   "outputs": [],
   "source": [
    "# 5.MTM\n",
    "Value = anEuroOption.NPV()\n",
    "print(\"MTM: \", Value)"
   ]
  },
  {
   "cell_type": "code",
   "execution_count": 15,
   "metadata": {},
   "outputs": [],
   "source": [
    "# 6.Greeks\n",
    "Delta = anEuroOption.delta()\n",
    "print(\"Delta: \", Delta)\n",
    "Gamma = anEuroOption.gamma()\n",
    "print(\"Gamma: \", Gamma)\n",
    "Vega = anEuroOption.vega() \n",
    "print(\"Vega: \", Vega)"
   ]
  },
  {
   "cell_type": "code",
   "execution_count": 16,
   "metadata": {},
   "outputs": [],
   "source": [
    "Theta = anEuroOption.theta()\n",
    "print(\"Theta: \", Theta)\n",
    "Rho = anEuroOption.rho()\n",
    "print(\"Rho: \", Rho)\n",
    "DividendRho = anEuroOption.dividendRho()\n",
    "print(\"Dividend Rho: \", DividendRho)"
   ]
  },
  {
   "cell_type": "code",
   "execution_count": 17,
   "metadata": {},
   "outputs": [],
   "source": [
    "# 7.Implied Volatility\n",
    "Price1 = 220.0\n",
    "vol1 = anEuroOption.impliedVolatility(Price1, GBSProcess)\n",
    "print(\"Implied Vol at Price(\", Price1,\"): \", vol1)\n",
    "Price2 = 190.0\n",
    "vol2 = anEuroOption.impliedVolatility(Price2, GBSProcess)\n",
    "print(\"Implied Vol at Price(\", Price2, \"): \", vol2)\n",
    "Price3 = 188.6\n",
    "vol3 = anEuroOption.impliedVolatility(Price3, GBSProcess)\n",
    "print(\"Implied Vol at Market Price(\", Price3, \"): \", vol3)"
   ]
  },
  {
   "cell_type": "code",
   "execution_count": null,
   "metadata": {},
   "outputs": [],
   "source": []
  }
 ],
 "metadata": {
  "kernelspec": {
   "display_name": "Python 3",
   "language": "python",
   "name": "python3"
  },
  "language_info": {
   "codemirror_mode": {
    "name": "ipython",
    "version": 3
   },
   "file_extension": ".py",
   "mimetype": "text/x-python",
   "name": "python",
   "nbconvert_exporter": "python",
   "pygments_lexer": "ipython3",
   "version": "3.8.3"
  }
 },
 "nbformat": 4,
 "nbformat_minor": 4
}
